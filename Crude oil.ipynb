{
 "cells": [
  {
   "cell_type": "code",
   "execution_count": 1,
   "metadata": {},
   "outputs": [],
   "source": [
    "import pandas as pd"
   ]
  },
  {
   "cell_type": "code",
   "execution_count": 51,
   "metadata": {},
   "outputs": [],
   "source": [
    "dataframe = pd.read_csv('Crude oil.csv', header=0)"
   ]
  },
  {
   "cell_type": "code",
   "execution_count": 52,
   "metadata": {},
   "outputs": [
    {
     "data": {
      "text/html": [
       "<div>\n",
       "<style scoped>\n",
       "    .dataframe tbody tr th:only-of-type {\n",
       "        vertical-align: middle;\n",
       "    }\n",
       "\n",
       "    .dataframe tbody tr th {\n",
       "        vertical-align: top;\n",
       "    }\n",
       "\n",
       "    .dataframe thead th {\n",
       "        text-align: right;\n",
       "    }\n",
       "</style>\n",
       "<table border=\"1\" class=\"dataframe\">\n",
       "  <thead>\n",
       "    <tr style=\"text-align: right;\">\n",
       "      <th></th>\n",
       "      <th>Date</th>\n",
       "      <th>Open</th>\n",
       "      <th>High</th>\n",
       "      <th>Low</th>\n",
       "      <th>Close</th>\n",
       "      <th>Adj Close</th>\n",
       "      <th>Volume</th>\n",
       "    </tr>\n",
       "  </thead>\n",
       "  <tbody>\n",
       "    <tr>\n",
       "      <th>0</th>\n",
       "      <td>2000-08-23</td>\n",
       "      <td>31.950001</td>\n",
       "      <td>32.799999</td>\n",
       "      <td>31.950001</td>\n",
       "      <td>32.049999</td>\n",
       "      <td>32.049999</td>\n",
       "      <td>79385.0</td>\n",
       "    </tr>\n",
       "    <tr>\n",
       "      <th>1</th>\n",
       "      <td>2000-08-24</td>\n",
       "      <td>31.900000</td>\n",
       "      <td>32.240002</td>\n",
       "      <td>31.400000</td>\n",
       "      <td>31.629999</td>\n",
       "      <td>31.629999</td>\n",
       "      <td>72978.0</td>\n",
       "    </tr>\n",
       "    <tr>\n",
       "      <th>2</th>\n",
       "      <td>2000-08-25</td>\n",
       "      <td>31.700001</td>\n",
       "      <td>32.099998</td>\n",
       "      <td>31.320000</td>\n",
       "      <td>32.049999</td>\n",
       "      <td>32.049999</td>\n",
       "      <td>44601.0</td>\n",
       "    </tr>\n",
       "    <tr>\n",
       "      <th>3</th>\n",
       "      <td>2000-08-28</td>\n",
       "      <td>32.040001</td>\n",
       "      <td>32.919998</td>\n",
       "      <td>31.860001</td>\n",
       "      <td>32.869999</td>\n",
       "      <td>32.869999</td>\n",
       "      <td>46770.0</td>\n",
       "    </tr>\n",
       "    <tr>\n",
       "      <th>4</th>\n",
       "      <td>2000-08-29</td>\n",
       "      <td>32.820000</td>\n",
       "      <td>33.029999</td>\n",
       "      <td>32.560001</td>\n",
       "      <td>32.720001</td>\n",
       "      <td>32.720001</td>\n",
       "      <td>49131.0</td>\n",
       "    </tr>\n",
       "  </tbody>\n",
       "</table>\n",
       "</div>"
      ],
      "text/plain": [
       "         Date       Open       High        Low      Close  Adj Close   Volume\n",
       "0  2000-08-23  31.950001  32.799999  31.950001  32.049999  32.049999  79385.0\n",
       "1  2000-08-24  31.900000  32.240002  31.400000  31.629999  31.629999  72978.0\n",
       "2  2000-08-25  31.700001  32.099998  31.320000  32.049999  32.049999  44601.0\n",
       "3  2000-08-28  32.040001  32.919998  31.860001  32.869999  32.869999  46770.0\n",
       "4  2000-08-29  32.820000  33.029999  32.560001  32.720001  32.720001  49131.0"
      ]
     },
     "execution_count": 52,
     "metadata": {},
     "output_type": "execute_result"
    }
   ],
   "source": [
    "dataframe.head()"
   ]
  },
  {
   "cell_type": "code",
   "execution_count": 54,
   "metadata": {},
   "outputs": [
    {
     "data": {
      "text/plain": [
       "dtype('O')"
      ]
     },
     "execution_count": 54,
     "metadata": {},
     "output_type": "execute_result"
    }
   ],
   "source": [
    "dataframe['Date'].dtype"
   ]
  },
  {
   "cell_type": "code",
   "execution_count": 55,
   "metadata": {},
   "outputs": [],
   "source": [
    "df2 = pd.read_csv('Crude oil.csv', header = 0, parse_dates=[0])"
   ]
  },
  {
   "cell_type": "code",
   "execution_count": 56,
   "metadata": {},
   "outputs": [
    {
     "data": {
      "text/html": [
       "<div>\n",
       "<style scoped>\n",
       "    .dataframe tbody tr th:only-of-type {\n",
       "        vertical-align: middle;\n",
       "    }\n",
       "\n",
       "    .dataframe tbody tr th {\n",
       "        vertical-align: top;\n",
       "    }\n",
       "\n",
       "    .dataframe thead th {\n",
       "        text-align: right;\n",
       "    }\n",
       "</style>\n",
       "<table border=\"1\" class=\"dataframe\">\n",
       "  <thead>\n",
       "    <tr style=\"text-align: right;\">\n",
       "      <th></th>\n",
       "      <th>Date</th>\n",
       "      <th>Open</th>\n",
       "      <th>High</th>\n",
       "      <th>Low</th>\n",
       "      <th>Close</th>\n",
       "      <th>Adj Close</th>\n",
       "      <th>Volume</th>\n",
       "    </tr>\n",
       "  </thead>\n",
       "  <tbody>\n",
       "    <tr>\n",
       "      <th>0</th>\n",
       "      <td>2000-08-23</td>\n",
       "      <td>31.950001</td>\n",
       "      <td>32.799999</td>\n",
       "      <td>31.950001</td>\n",
       "      <td>32.049999</td>\n",
       "      <td>32.049999</td>\n",
       "      <td>79385.0</td>\n",
       "    </tr>\n",
       "    <tr>\n",
       "      <th>1</th>\n",
       "      <td>2000-08-24</td>\n",
       "      <td>31.900000</td>\n",
       "      <td>32.240002</td>\n",
       "      <td>31.400000</td>\n",
       "      <td>31.629999</td>\n",
       "      <td>31.629999</td>\n",
       "      <td>72978.0</td>\n",
       "    </tr>\n",
       "    <tr>\n",
       "      <th>2</th>\n",
       "      <td>2000-08-25</td>\n",
       "      <td>31.700001</td>\n",
       "      <td>32.099998</td>\n",
       "      <td>31.320000</td>\n",
       "      <td>32.049999</td>\n",
       "      <td>32.049999</td>\n",
       "      <td>44601.0</td>\n",
       "    </tr>\n",
       "    <tr>\n",
       "      <th>3</th>\n",
       "      <td>2000-08-28</td>\n",
       "      <td>32.040001</td>\n",
       "      <td>32.919998</td>\n",
       "      <td>31.860001</td>\n",
       "      <td>32.869999</td>\n",
       "      <td>32.869999</td>\n",
       "      <td>46770.0</td>\n",
       "    </tr>\n",
       "    <tr>\n",
       "      <th>4</th>\n",
       "      <td>2000-08-29</td>\n",
       "      <td>32.820000</td>\n",
       "      <td>33.029999</td>\n",
       "      <td>32.560001</td>\n",
       "      <td>32.720001</td>\n",
       "      <td>32.720001</td>\n",
       "      <td>49131.0</td>\n",
       "    </tr>\n",
       "  </tbody>\n",
       "</table>\n",
       "</div>"
      ],
      "text/plain": [
       "        Date       Open       High        Low      Close  Adj Close   Volume\n",
       "0 2000-08-23  31.950001  32.799999  31.950001  32.049999  32.049999  79385.0\n",
       "1 2000-08-24  31.900000  32.240002  31.400000  31.629999  31.629999  72978.0\n",
       "2 2000-08-25  31.700001  32.099998  31.320000  32.049999  32.049999  44601.0\n",
       "3 2000-08-28  32.040001  32.919998  31.860001  32.869999  32.869999  46770.0\n",
       "4 2000-08-29  32.820000  33.029999  32.560001  32.720001  32.720001  49131.0"
      ]
     },
     "execution_count": 56,
     "metadata": {},
     "output_type": "execute_result"
    }
   ],
   "source": [
    "df2.head()"
   ]
  },
  {
   "cell_type": "code",
   "execution_count": 58,
   "metadata": {},
   "outputs": [
    {
     "data": {
      "text/plain": [
       "dtype('<M8[ns]')"
      ]
     },
     "execution_count": 58,
     "metadata": {},
     "output_type": "execute_result"
    }
   ],
   "source": [
    "df2['Date']. dtype"
   ]
  },
  {
   "cell_type": "code",
   "execution_count": 59,
   "metadata": {},
   "outputs": [],
   "source": [
    "##Loading data as a series\n",
    "series = pd.read_csv('Crude oil.csv', header=0, parse_dates=[0], index_col=0, squeeze=True)"
   ]
  },
  {
   "cell_type": "code",
   "execution_count": 60,
   "metadata": {},
   "outputs": [
    {
     "data": {
      "text/html": [
       "<div>\n",
       "<style scoped>\n",
       "    .dataframe tbody tr th:only-of-type {\n",
       "        vertical-align: middle;\n",
       "    }\n",
       "\n",
       "    .dataframe tbody tr th {\n",
       "        vertical-align: top;\n",
       "    }\n",
       "\n",
       "    .dataframe thead th {\n",
       "        text-align: right;\n",
       "    }\n",
       "</style>\n",
       "<table border=\"1\" class=\"dataframe\">\n",
       "  <thead>\n",
       "    <tr style=\"text-align: right;\">\n",
       "      <th></th>\n",
       "      <th>Open</th>\n",
       "      <th>High</th>\n",
       "      <th>Low</th>\n",
       "      <th>Close</th>\n",
       "      <th>Adj Close</th>\n",
       "      <th>Volume</th>\n",
       "    </tr>\n",
       "    <tr>\n",
       "      <th>Date</th>\n",
       "      <th></th>\n",
       "      <th></th>\n",
       "      <th></th>\n",
       "      <th></th>\n",
       "      <th></th>\n",
       "      <th></th>\n",
       "    </tr>\n",
       "  </thead>\n",
       "  <tbody>\n",
       "    <tr>\n",
       "      <th>2000-08-23</th>\n",
       "      <td>31.950001</td>\n",
       "      <td>32.799999</td>\n",
       "      <td>31.950001</td>\n",
       "      <td>32.049999</td>\n",
       "      <td>32.049999</td>\n",
       "      <td>79385.0</td>\n",
       "    </tr>\n",
       "    <tr>\n",
       "      <th>2000-08-24</th>\n",
       "      <td>31.900000</td>\n",
       "      <td>32.240002</td>\n",
       "      <td>31.400000</td>\n",
       "      <td>31.629999</td>\n",
       "      <td>31.629999</td>\n",
       "      <td>72978.0</td>\n",
       "    </tr>\n",
       "    <tr>\n",
       "      <th>2000-08-25</th>\n",
       "      <td>31.700001</td>\n",
       "      <td>32.099998</td>\n",
       "      <td>31.320000</td>\n",
       "      <td>32.049999</td>\n",
       "      <td>32.049999</td>\n",
       "      <td>44601.0</td>\n",
       "    </tr>\n",
       "    <tr>\n",
       "      <th>2000-08-28</th>\n",
       "      <td>32.040001</td>\n",
       "      <td>32.919998</td>\n",
       "      <td>31.860001</td>\n",
       "      <td>32.869999</td>\n",
       "      <td>32.869999</td>\n",
       "      <td>46770.0</td>\n",
       "    </tr>\n",
       "    <tr>\n",
       "      <th>2000-08-29</th>\n",
       "      <td>32.820000</td>\n",
       "      <td>33.029999</td>\n",
       "      <td>32.560001</td>\n",
       "      <td>32.720001</td>\n",
       "      <td>32.720001</td>\n",
       "      <td>49131.0</td>\n",
       "    </tr>\n",
       "  </tbody>\n",
       "</table>\n",
       "</div>"
      ],
      "text/plain": [
       "                 Open       High        Low      Close  Adj Close   Volume\n",
       "Date                                                                      \n",
       "2000-08-23  31.950001  32.799999  31.950001  32.049999  32.049999  79385.0\n",
       "2000-08-24  31.900000  32.240002  31.400000  31.629999  31.629999  72978.0\n",
       "2000-08-25  31.700001  32.099998  31.320000  32.049999  32.049999  44601.0\n",
       "2000-08-28  32.040001  32.919998  31.860001  32.869999  32.869999  46770.0\n",
       "2000-08-29  32.820000  33.029999  32.560001  32.720001  32.720001  49131.0"
      ]
     },
     "execution_count": 60,
     "metadata": {},
     "output_type": "execute_result"
    }
   ],
   "source": [
    "series.head()"
   ]
  },
  {
   "cell_type": "code",
   "execution_count": 61,
   "metadata": {},
   "outputs": [
    {
     "data": {
      "text/plain": [
       "(5284, 6)"
      ]
     },
     "execution_count": 61,
     "metadata": {},
     "output_type": "execute_result"
    }
   ],
   "source": [
    "series.shape"
   ]
  },
  {
   "cell_type": "code",
   "execution_count": 62,
   "metadata": {},
   "outputs": [
    {
     "data": {
      "text/plain": [
       "(5284, 7)"
      ]
     },
     "execution_count": 62,
     "metadata": {},
     "output_type": "execute_result"
    }
   ],
   "source": [
    "df2.shape"
   ]
  },
  {
   "cell_type": "code",
   "execution_count": 64,
   "metadata": {},
   "outputs": [
    {
     "name": "stdout",
     "output_type": "stream",
     "text": [
      "                 Open       High        Low      Close  Adj Close   Volume\n",
      "Date                                                                      \n",
      "2000-08-23  31.950001  32.799999  31.950001  32.049999  32.049999  79385.0\n",
      "2000-08-24  31.900000  32.240002  31.400000  31.629999  31.629999  72978.0\n",
      "2000-08-25  31.700001  32.099998  31.320000  32.049999  32.049999  44601.0\n",
      "2000-08-28  32.040001  32.919998  31.860001  32.869999  32.869999  46770.0\n",
      "2000-08-29  32.820000  33.029999  32.560001  32.720001  32.720001  49131.0\n",
      "...               ...        ...        ...        ...        ...      ...\n",
      "2000-12-25        NaN        NaN        NaN        NaN        NaN      NaN\n",
      "2000-12-26  26.200001  26.900000  26.200001  26.650000  26.650000  24449.0\n",
      "2000-12-27  26.900000  27.020000  26.400000  26.450001  26.450001  34003.0\n",
      "2000-12-28  26.350000  26.480000  25.750000  25.850000  25.850000  34439.0\n",
      "2000-12-29  25.900000  26.950001  25.900000  26.799999  26.799999  35529.0\n",
      "\n",
      "[93 rows x 6 columns]\n"
     ]
    }
   ],
   "source": [
    "print(series['2000'])"
   ]
  },
  {
   "cell_type": "code",
   "execution_count": 65,
   "metadata": {},
   "outputs": [
    {
     "data": {
      "text/html": [
       "<div>\n",
       "<style scoped>\n",
       "    .dataframe tbody tr th:only-of-type {\n",
       "        vertical-align: middle;\n",
       "    }\n",
       "\n",
       "    .dataframe tbody tr th {\n",
       "        vertical-align: top;\n",
       "    }\n",
       "\n",
       "    .dataframe thead th {\n",
       "        text-align: right;\n",
       "    }\n",
       "</style>\n",
       "<table border=\"1\" class=\"dataframe\">\n",
       "  <thead>\n",
       "    <tr style=\"text-align: right;\">\n",
       "      <th></th>\n",
       "      <th>Date</th>\n",
       "      <th>Open</th>\n",
       "      <th>High</th>\n",
       "      <th>Low</th>\n",
       "      <th>Close</th>\n",
       "      <th>Adj Close</th>\n",
       "      <th>Volume</th>\n",
       "    </tr>\n",
       "  </thead>\n",
       "  <tbody>\n",
       "    <tr>\n",
       "      <th>2418</th>\n",
       "      <td>2010-01-05</td>\n",
       "      <td>81.629997</td>\n",
       "      <td>82.000000</td>\n",
       "      <td>80.949997</td>\n",
       "      <td>81.769997</td>\n",
       "      <td>81.769997</td>\n",
       "      <td>258887.0</td>\n",
       "    </tr>\n",
       "    <tr>\n",
       "      <th>2419</th>\n",
       "      <td>2010-01-06</td>\n",
       "      <td>81.430000</td>\n",
       "      <td>83.519997</td>\n",
       "      <td>80.849998</td>\n",
       "      <td>83.180000</td>\n",
       "      <td>83.180000</td>\n",
       "      <td>370059.0</td>\n",
       "    </tr>\n",
       "    <tr>\n",
       "      <th>2420</th>\n",
       "      <td>2010-01-07</td>\n",
       "      <td>83.199997</td>\n",
       "      <td>83.360001</td>\n",
       "      <td>82.260002</td>\n",
       "      <td>82.660004</td>\n",
       "      <td>82.660004</td>\n",
       "      <td>246632.0</td>\n",
       "    </tr>\n",
       "    <tr>\n",
       "      <th>2421</th>\n",
       "      <td>2010-01-08</td>\n",
       "      <td>82.650002</td>\n",
       "      <td>83.470001</td>\n",
       "      <td>81.800003</td>\n",
       "      <td>82.750000</td>\n",
       "      <td>82.750000</td>\n",
       "      <td>310377.0</td>\n",
       "    </tr>\n",
       "    <tr>\n",
       "      <th>2422</th>\n",
       "      <td>2010-01-11</td>\n",
       "      <td>82.879997</td>\n",
       "      <td>83.949997</td>\n",
       "      <td>81.959999</td>\n",
       "      <td>82.519997</td>\n",
       "      <td>82.519997</td>\n",
       "      <td>296304.0</td>\n",
       "    </tr>\n",
       "    <tr>\n",
       "      <th>2423</th>\n",
       "      <td>2010-01-12</td>\n",
       "      <td>82.070000</td>\n",
       "      <td>82.339996</td>\n",
       "      <td>79.910004</td>\n",
       "      <td>80.790001</td>\n",
       "      <td>80.790001</td>\n",
       "      <td>333866.0</td>\n",
       "    </tr>\n",
       "    <tr>\n",
       "      <th>2424</th>\n",
       "      <td>2010-01-13</td>\n",
       "      <td>80.059998</td>\n",
       "      <td>80.669998</td>\n",
       "      <td>78.370003</td>\n",
       "      <td>79.650002</td>\n",
       "      <td>79.650002</td>\n",
       "      <td>401627.0</td>\n",
       "    </tr>\n",
       "    <tr>\n",
       "      <th>2425</th>\n",
       "      <td>2010-01-14</td>\n",
       "      <td>79.629997</td>\n",
       "      <td>80.360001</td>\n",
       "      <td>78.919998</td>\n",
       "      <td>79.389999</td>\n",
       "      <td>79.389999</td>\n",
       "      <td>275404.0</td>\n",
       "    </tr>\n",
       "    <tr>\n",
       "      <th>2426</th>\n",
       "      <td>2010-01-15</td>\n",
       "      <td>79.199997</td>\n",
       "      <td>79.309998</td>\n",
       "      <td>77.699997</td>\n",
       "      <td>78.000000</td>\n",
       "      <td>78.000000</td>\n",
       "      <td>200555.0</td>\n",
       "    </tr>\n",
       "    <tr>\n",
       "      <th>2427</th>\n",
       "      <td>2010-01-19</td>\n",
       "      <td>77.849998</td>\n",
       "      <td>79.150002</td>\n",
       "      <td>76.760002</td>\n",
       "      <td>79.019997</td>\n",
       "      <td>79.019997</td>\n",
       "      <td>186882.0</td>\n",
       "    </tr>\n",
       "    <tr>\n",
       "      <th>2428</th>\n",
       "      <td>2010-01-20</td>\n",
       "      <td>78.879997</td>\n",
       "      <td>79.029999</td>\n",
       "      <td>76.959999</td>\n",
       "      <td>77.620003</td>\n",
       "      <td>77.620003</td>\n",
       "      <td>303758.0</td>\n",
       "    </tr>\n",
       "    <tr>\n",
       "      <th>2429</th>\n",
       "      <td>2010-01-21</td>\n",
       "      <td>77.559998</td>\n",
       "      <td>78.360001</td>\n",
       "      <td>75.660004</td>\n",
       "      <td>76.080002</td>\n",
       "      <td>76.080002</td>\n",
       "      <td>327417.0</td>\n",
       "    </tr>\n",
       "    <tr>\n",
       "      <th>2430</th>\n",
       "      <td>2010-01-22</td>\n",
       "      <td>75.839996</td>\n",
       "      <td>76.500000</td>\n",
       "      <td>74.010002</td>\n",
       "      <td>74.540001</td>\n",
       "      <td>74.540001</td>\n",
       "      <td>348819.0</td>\n",
       "    </tr>\n",
       "    <tr>\n",
       "      <th>2431</th>\n",
       "      <td>2010-01-25</td>\n",
       "      <td>74.239998</td>\n",
       "      <td>75.419998</td>\n",
       "      <td>74.059998</td>\n",
       "      <td>75.260002</td>\n",
       "      <td>75.260002</td>\n",
       "      <td>280559.0</td>\n",
       "    </tr>\n",
       "    <tr>\n",
       "      <th>2432</th>\n",
       "      <td>2010-01-26</td>\n",
       "      <td>75.279999</td>\n",
       "      <td>75.389999</td>\n",
       "      <td>73.820000</td>\n",
       "      <td>74.709999</td>\n",
       "      <td>74.709999</td>\n",
       "      <td>256207.0</td>\n",
       "    </tr>\n",
       "    <tr>\n",
       "      <th>2433</th>\n",
       "      <td>2010-01-27</td>\n",
       "      <td>74.690002</td>\n",
       "      <td>75.089996</td>\n",
       "      <td>72.650002</td>\n",
       "      <td>73.669998</td>\n",
       "      <td>73.669998</td>\n",
       "      <td>356179.0</td>\n",
       "    </tr>\n",
       "    <tr>\n",
       "      <th>2434</th>\n",
       "      <td>2010-01-28</td>\n",
       "      <td>73.750000</td>\n",
       "      <td>74.489998</td>\n",
       "      <td>72.930000</td>\n",
       "      <td>73.639999</td>\n",
       "      <td>73.639999</td>\n",
       "      <td>292911.0</td>\n",
       "    </tr>\n",
       "    <tr>\n",
       "      <th>2435</th>\n",
       "      <td>2010-01-29</td>\n",
       "      <td>73.889999</td>\n",
       "      <td>74.820000</td>\n",
       "      <td>72.430000</td>\n",
       "      <td>72.889999</td>\n",
       "      <td>72.889999</td>\n",
       "      <td>335270.0</td>\n",
       "    </tr>\n",
       "  </tbody>\n",
       "</table>\n",
       "</div>"
      ],
      "text/plain": [
       "           Date       Open       High        Low      Close  Adj Close  \\\n",
       "2418 2010-01-05  81.629997  82.000000  80.949997  81.769997  81.769997   \n",
       "2419 2010-01-06  81.430000  83.519997  80.849998  83.180000  83.180000   \n",
       "2420 2010-01-07  83.199997  83.360001  82.260002  82.660004  82.660004   \n",
       "2421 2010-01-08  82.650002  83.470001  81.800003  82.750000  82.750000   \n",
       "2422 2010-01-11  82.879997  83.949997  81.959999  82.519997  82.519997   \n",
       "2423 2010-01-12  82.070000  82.339996  79.910004  80.790001  80.790001   \n",
       "2424 2010-01-13  80.059998  80.669998  78.370003  79.650002  79.650002   \n",
       "2425 2010-01-14  79.629997  80.360001  78.919998  79.389999  79.389999   \n",
       "2426 2010-01-15  79.199997  79.309998  77.699997  78.000000  78.000000   \n",
       "2427 2010-01-19  77.849998  79.150002  76.760002  79.019997  79.019997   \n",
       "2428 2010-01-20  78.879997  79.029999  76.959999  77.620003  77.620003   \n",
       "2429 2010-01-21  77.559998  78.360001  75.660004  76.080002  76.080002   \n",
       "2430 2010-01-22  75.839996  76.500000  74.010002  74.540001  74.540001   \n",
       "2431 2010-01-25  74.239998  75.419998  74.059998  75.260002  75.260002   \n",
       "2432 2010-01-26  75.279999  75.389999  73.820000  74.709999  74.709999   \n",
       "2433 2010-01-27  74.690002  75.089996  72.650002  73.669998  73.669998   \n",
       "2434 2010-01-28  73.750000  74.489998  72.930000  73.639999  73.639999   \n",
       "2435 2010-01-29  73.889999  74.820000  72.430000  72.889999  72.889999   \n",
       "\n",
       "        Volume  \n",
       "2418  258887.0  \n",
       "2419  370059.0  \n",
       "2420  246632.0  \n",
       "2421  310377.0  \n",
       "2422  296304.0  \n",
       "2423  333866.0  \n",
       "2424  401627.0  \n",
       "2425  275404.0  \n",
       "2426  200555.0  \n",
       "2427  186882.0  \n",
       "2428  303758.0  \n",
       "2429  327417.0  \n",
       "2430  348819.0  \n",
       "2431  280559.0  \n",
       "2432  256207.0  \n",
       "2433  356179.0  \n",
       "2434  292911.0  \n",
       "2435  335270.0  "
      ]
     },
     "execution_count": 65,
     "metadata": {},
     "output_type": "execute_result"
    }
   ],
   "source": [
    "df2[(df2['Date'] > '2010-01-04') & (df2['Date'] <= '2010-01-29')]"
   ]
  },
  {
   "cell_type": "code",
   "execution_count": 66,
   "metadata": {},
   "outputs": [
    {
     "data": {
      "text/html": [
       "<div>\n",
       "<style scoped>\n",
       "    .dataframe tbody tr th:only-of-type {\n",
       "        vertical-align: middle;\n",
       "    }\n",
       "\n",
       "    .dataframe tbody tr th {\n",
       "        vertical-align: top;\n",
       "    }\n",
       "\n",
       "    .dataframe thead th {\n",
       "        text-align: right;\n",
       "    }\n",
       "</style>\n",
       "<table border=\"1\" class=\"dataframe\">\n",
       "  <thead>\n",
       "    <tr style=\"text-align: right;\">\n",
       "      <th></th>\n",
       "      <th>Open</th>\n",
       "      <th>High</th>\n",
       "      <th>Low</th>\n",
       "      <th>Close</th>\n",
       "      <th>Adj Close</th>\n",
       "      <th>Volume</th>\n",
       "    </tr>\n",
       "  </thead>\n",
       "  <tbody>\n",
       "    <tr>\n",
       "      <th>count</th>\n",
       "      <td>5177.000000</td>\n",
       "      <td>5177.000000</td>\n",
       "      <td>5177.000000</td>\n",
       "      <td>5177.000000</td>\n",
       "      <td>5177.000000</td>\n",
       "      <td>5.177000e+03</td>\n",
       "    </tr>\n",
       "    <tr>\n",
       "      <th>mean</th>\n",
       "      <td>61.751362</td>\n",
       "      <td>62.675028</td>\n",
       "      <td>60.764224</td>\n",
       "      <td>61.750346</td>\n",
       "      <td>61.750346</td>\n",
       "      <td>2.992012e+05</td>\n",
       "    </tr>\n",
       "    <tr>\n",
       "      <th>std</th>\n",
       "      <td>25.666975</td>\n",
       "      <td>25.880242</td>\n",
       "      <td>25.425934</td>\n",
       "      <td>25.680286</td>\n",
       "      <td>25.680286</td>\n",
       "      <td>2.221311e+05</td>\n",
       "    </tr>\n",
       "    <tr>\n",
       "      <th>min</th>\n",
       "      <td>-14.000000</td>\n",
       "      <td>13.690000</td>\n",
       "      <td>-40.320000</td>\n",
       "      <td>-37.630001</td>\n",
       "      <td>-37.630001</td>\n",
       "      <td>0.000000e+00</td>\n",
       "    </tr>\n",
       "    <tr>\n",
       "      <th>25%</th>\n",
       "      <td>41.849998</td>\n",
       "      <td>42.830002</td>\n",
       "      <td>41.060001</td>\n",
       "      <td>41.799999</td>\n",
       "      <td>41.799999</td>\n",
       "      <td>1.090240e+05</td>\n",
       "    </tr>\n",
       "    <tr>\n",
       "      <th>50%</th>\n",
       "      <td>58.599998</td>\n",
       "      <td>59.430000</td>\n",
       "      <td>57.680000</td>\n",
       "      <td>58.540001</td>\n",
       "      <td>58.540001</td>\n",
       "      <td>2.555990e+05</td>\n",
       "    </tr>\n",
       "    <tr>\n",
       "      <th>75%</th>\n",
       "      <td>81.379997</td>\n",
       "      <td>82.379997</td>\n",
       "      <td>80.059998</td>\n",
       "      <td>81.419998</td>\n",
       "      <td>81.419998</td>\n",
       "      <td>4.002000e+05</td>\n",
       "    </tr>\n",
       "    <tr>\n",
       "      <th>max</th>\n",
       "      <td>145.190002</td>\n",
       "      <td>147.270004</td>\n",
       "      <td>142.490005</td>\n",
       "      <td>145.179993</td>\n",
       "      <td>145.179993</td>\n",
       "      <td>2.288230e+06</td>\n",
       "    </tr>\n",
       "  </tbody>\n",
       "</table>\n",
       "</div>"
      ],
      "text/plain": [
       "              Open         High          Low        Close    Adj Close  \\\n",
       "count  5177.000000  5177.000000  5177.000000  5177.000000  5177.000000   \n",
       "mean     61.751362    62.675028    60.764224    61.750346    61.750346   \n",
       "std      25.666975    25.880242    25.425934    25.680286    25.680286   \n",
       "min     -14.000000    13.690000   -40.320000   -37.630001   -37.630001   \n",
       "25%      41.849998    42.830002    41.060001    41.799999    41.799999   \n",
       "50%      58.599998    59.430000    57.680000    58.540001    58.540001   \n",
       "75%      81.379997    82.379997    80.059998    81.419998    81.419998   \n",
       "max     145.190002   147.270004   142.490005   145.179993   145.179993   \n",
       "\n",
       "             Volume  \n",
       "count  5.177000e+03  \n",
       "mean   2.992012e+05  \n",
       "std    2.221311e+05  \n",
       "min    0.000000e+00  \n",
       "25%    1.090240e+05  \n",
       "50%    2.555990e+05  \n",
       "75%    4.002000e+05  \n",
       "max    2.288230e+06  "
      ]
     },
     "execution_count": 66,
     "metadata": {},
     "output_type": "execute_result"
    }
   ],
   "source": [
    "#Descriptive Statistics\n",
    "series.describe()"
   ]
  },
  {
   "cell_type": "code",
   "execution_count": 67,
   "metadata": {},
   "outputs": [
    {
     "data": {
      "text/html": [
       "<div>\n",
       "<style scoped>\n",
       "    .dataframe tbody tr th:only-of-type {\n",
       "        vertical-align: middle;\n",
       "    }\n",
       "\n",
       "    .dataframe tbody tr th {\n",
       "        vertical-align: top;\n",
       "    }\n",
       "\n",
       "    .dataframe thead th {\n",
       "        text-align: right;\n",
       "    }\n",
       "</style>\n",
       "<table border=\"1\" class=\"dataframe\">\n",
       "  <thead>\n",
       "    <tr style=\"text-align: right;\">\n",
       "      <th></th>\n",
       "      <th>Open</th>\n",
       "      <th>High</th>\n",
       "      <th>Low</th>\n",
       "      <th>Close</th>\n",
       "      <th>Adj Close</th>\n",
       "      <th>Volume</th>\n",
       "    </tr>\n",
       "  </thead>\n",
       "  <tbody>\n",
       "    <tr>\n",
       "      <th>count</th>\n",
       "      <td>5177.000000</td>\n",
       "      <td>5177.000000</td>\n",
       "      <td>5177.000000</td>\n",
       "      <td>5177.000000</td>\n",
       "      <td>5177.000000</td>\n",
       "      <td>5.177000e+03</td>\n",
       "    </tr>\n",
       "    <tr>\n",
       "      <th>mean</th>\n",
       "      <td>61.751362</td>\n",
       "      <td>62.675028</td>\n",
       "      <td>60.764224</td>\n",
       "      <td>61.750346</td>\n",
       "      <td>61.750346</td>\n",
       "      <td>2.992012e+05</td>\n",
       "    </tr>\n",
       "    <tr>\n",
       "      <th>std</th>\n",
       "      <td>25.666975</td>\n",
       "      <td>25.880242</td>\n",
       "      <td>25.425934</td>\n",
       "      <td>25.680286</td>\n",
       "      <td>25.680286</td>\n",
       "      <td>2.221311e+05</td>\n",
       "    </tr>\n",
       "    <tr>\n",
       "      <th>min</th>\n",
       "      <td>-14.000000</td>\n",
       "      <td>13.690000</td>\n",
       "      <td>-40.320000</td>\n",
       "      <td>-37.630001</td>\n",
       "      <td>-37.630001</td>\n",
       "      <td>0.000000e+00</td>\n",
       "    </tr>\n",
       "    <tr>\n",
       "      <th>25%</th>\n",
       "      <td>41.849998</td>\n",
       "      <td>42.830002</td>\n",
       "      <td>41.060001</td>\n",
       "      <td>41.799999</td>\n",
       "      <td>41.799999</td>\n",
       "      <td>1.090240e+05</td>\n",
       "    </tr>\n",
       "    <tr>\n",
       "      <th>50%</th>\n",
       "      <td>58.599998</td>\n",
       "      <td>59.430000</td>\n",
       "      <td>57.680000</td>\n",
       "      <td>58.540001</td>\n",
       "      <td>58.540001</td>\n",
       "      <td>2.555990e+05</td>\n",
       "    </tr>\n",
       "    <tr>\n",
       "      <th>75%</th>\n",
       "      <td>81.379997</td>\n",
       "      <td>82.379997</td>\n",
       "      <td>80.059998</td>\n",
       "      <td>81.419998</td>\n",
       "      <td>81.419998</td>\n",
       "      <td>4.002000e+05</td>\n",
       "    </tr>\n",
       "    <tr>\n",
       "      <th>max</th>\n",
       "      <td>145.190002</td>\n",
       "      <td>147.270004</td>\n",
       "      <td>142.490005</td>\n",
       "      <td>145.179993</td>\n",
       "      <td>145.179993</td>\n",
       "      <td>2.288230e+06</td>\n",
       "    </tr>\n",
       "  </tbody>\n",
       "</table>\n",
       "</div>"
      ],
      "text/plain": [
       "              Open         High          Low        Close    Adj Close  \\\n",
       "count  5177.000000  5177.000000  5177.000000  5177.000000  5177.000000   \n",
       "mean     61.751362    62.675028    60.764224    61.750346    61.750346   \n",
       "std      25.666975    25.880242    25.425934    25.680286    25.680286   \n",
       "min     -14.000000    13.690000   -40.320000   -37.630001   -37.630001   \n",
       "25%      41.849998    42.830002    41.060001    41.799999    41.799999   \n",
       "50%      58.599998    59.430000    57.680000    58.540001    58.540001   \n",
       "75%      81.379997    82.379997    80.059998    81.419998    81.419998   \n",
       "max     145.190002   147.270004   142.490005   145.179993   145.179993   \n",
       "\n",
       "             Volume  \n",
       "count  5.177000e+03  \n",
       "mean   2.992012e+05  \n",
       "std    2.221311e+05  \n",
       "min    0.000000e+00  \n",
       "25%    1.090240e+05  \n",
       "50%    2.555990e+05  \n",
       "75%    4.002000e+05  \n",
       "max    2.288230e+06  "
      ]
     },
     "execution_count": 67,
     "metadata": {},
     "output_type": "execute_result"
    }
   ],
   "source": [
    "df2.describe()"
   ]
  },
  {
   "cell_type": "code",
   "execution_count": 68,
   "metadata": {},
   "outputs": [],
   "source": [
    "#Time series data visualization\n",
    "from matplotlib import pyplot as plt\n",
    "%matplotlib inline"
   ]
  },
  {
   "cell_type": "code",
   "execution_count": 69,
   "metadata": {},
   "outputs": [],
   "source": [
    "Dataviz_df= df2.copy()"
   ]
  },
  {
   "cell_type": "code",
   "execution_count": 70,
   "metadata": {},
   "outputs": [
    {
     "data": {
      "text/html": [
       "<div>\n",
       "<style scoped>\n",
       "    .dataframe tbody tr th:only-of-type {\n",
       "        vertical-align: middle;\n",
       "    }\n",
       "\n",
       "    .dataframe tbody tr th {\n",
       "        vertical-align: top;\n",
       "    }\n",
       "\n",
       "    .dataframe thead th {\n",
       "        text-align: right;\n",
       "    }\n",
       "</style>\n",
       "<table border=\"1\" class=\"dataframe\">\n",
       "  <thead>\n",
       "    <tr style=\"text-align: right;\">\n",
       "      <th></th>\n",
       "      <th>Date</th>\n",
       "      <th>Open</th>\n",
       "      <th>High</th>\n",
       "      <th>Low</th>\n",
       "      <th>Close</th>\n",
       "      <th>Adj Close</th>\n",
       "      <th>Volume</th>\n",
       "    </tr>\n",
       "  </thead>\n",
       "  <tbody>\n",
       "    <tr>\n",
       "      <th>0</th>\n",
       "      <td>2000-08-23</td>\n",
       "      <td>31.950001</td>\n",
       "      <td>32.799999</td>\n",
       "      <td>31.950001</td>\n",
       "      <td>32.049999</td>\n",
       "      <td>32.049999</td>\n",
       "      <td>79385.0</td>\n",
       "    </tr>\n",
       "    <tr>\n",
       "      <th>1</th>\n",
       "      <td>2000-08-24</td>\n",
       "      <td>31.900000</td>\n",
       "      <td>32.240002</td>\n",
       "      <td>31.400000</td>\n",
       "      <td>31.629999</td>\n",
       "      <td>31.629999</td>\n",
       "      <td>72978.0</td>\n",
       "    </tr>\n",
       "    <tr>\n",
       "      <th>2</th>\n",
       "      <td>2000-08-25</td>\n",
       "      <td>31.700001</td>\n",
       "      <td>32.099998</td>\n",
       "      <td>31.320000</td>\n",
       "      <td>32.049999</td>\n",
       "      <td>32.049999</td>\n",
       "      <td>44601.0</td>\n",
       "    </tr>\n",
       "    <tr>\n",
       "      <th>3</th>\n",
       "      <td>2000-08-28</td>\n",
       "      <td>32.040001</td>\n",
       "      <td>32.919998</td>\n",
       "      <td>31.860001</td>\n",
       "      <td>32.869999</td>\n",
       "      <td>32.869999</td>\n",
       "      <td>46770.0</td>\n",
       "    </tr>\n",
       "    <tr>\n",
       "      <th>4</th>\n",
       "      <td>2000-08-29</td>\n",
       "      <td>32.820000</td>\n",
       "      <td>33.029999</td>\n",
       "      <td>32.560001</td>\n",
       "      <td>32.720001</td>\n",
       "      <td>32.720001</td>\n",
       "      <td>49131.0</td>\n",
       "    </tr>\n",
       "    <tr>\n",
       "      <th>5</th>\n",
       "      <td>2000-08-30</td>\n",
       "      <td>32.750000</td>\n",
       "      <td>33.400002</td>\n",
       "      <td>32.099998</td>\n",
       "      <td>33.400002</td>\n",
       "      <td>33.400002</td>\n",
       "      <td>79214.0</td>\n",
       "    </tr>\n",
       "    <tr>\n",
       "      <th>6</th>\n",
       "      <td>2000-08-31</td>\n",
       "      <td>33.250000</td>\n",
       "      <td>33.700001</td>\n",
       "      <td>32.970001</td>\n",
       "      <td>33.099998</td>\n",
       "      <td>33.099998</td>\n",
       "      <td>56895.0</td>\n",
       "    </tr>\n",
       "    <tr>\n",
       "      <th>7</th>\n",
       "      <td>2000-09-01</td>\n",
       "      <td>33.049999</td>\n",
       "      <td>33.450001</td>\n",
       "      <td>32.750000</td>\n",
       "      <td>33.380001</td>\n",
       "      <td>33.380001</td>\n",
       "      <td>45869.0</td>\n",
       "    </tr>\n",
       "    <tr>\n",
       "      <th>8</th>\n",
       "      <td>2000-09-04</td>\n",
       "      <td>NaN</td>\n",
       "      <td>NaN</td>\n",
       "      <td>NaN</td>\n",
       "      <td>NaN</td>\n",
       "      <td>NaN</td>\n",
       "      <td>NaN</td>\n",
       "    </tr>\n",
       "    <tr>\n",
       "      <th>9</th>\n",
       "      <td>2000-09-05</td>\n",
       "      <td>33.950001</td>\n",
       "      <td>33.990002</td>\n",
       "      <td>33.419998</td>\n",
       "      <td>33.799999</td>\n",
       "      <td>33.799999</td>\n",
       "      <td>55722.0</td>\n",
       "    </tr>\n",
       "  </tbody>\n",
       "</table>\n",
       "</div>"
      ],
      "text/plain": [
       "        Date       Open       High        Low      Close  Adj Close   Volume\n",
       "0 2000-08-23  31.950001  32.799999  31.950001  32.049999  32.049999  79385.0\n",
       "1 2000-08-24  31.900000  32.240002  31.400000  31.629999  31.629999  72978.0\n",
       "2 2000-08-25  31.700001  32.099998  31.320000  32.049999  32.049999  44601.0\n",
       "3 2000-08-28  32.040001  32.919998  31.860001  32.869999  32.869999  46770.0\n",
       "4 2000-08-29  32.820000  33.029999  32.560001  32.720001  32.720001  49131.0\n",
       "5 2000-08-30  32.750000  33.400002  32.099998  33.400002  33.400002  79214.0\n",
       "6 2000-08-31  33.250000  33.700001  32.970001  33.099998  33.099998  56895.0\n",
       "7 2000-09-01  33.049999  33.450001  32.750000  33.380001  33.380001  45869.0\n",
       "8 2000-09-04        NaN        NaN        NaN        NaN        NaN      NaN\n",
       "9 2000-09-05  33.950001  33.990002  33.419998  33.799999  33.799999  55722.0"
      ]
     },
     "execution_count": 70,
     "metadata": {},
     "output_type": "execute_result"
    }
   ],
   "source": [
    "Dataviz_df.head(10)"
   ]
  },
  {
   "cell_type": "code",
   "execution_count": 71,
   "metadata": {},
   "outputs": [
    {
     "data": {
      "text/plain": [
       "<matplotlib.axes._subplots.AxesSubplot at 0x256ba2a48e0>"
      ]
     },
     "execution_count": 71,
     "metadata": {},
     "output_type": "execute_result"
    },
    {
     "data": {
      "image/png": "[encoded data removed]",
      "text/plain": [
       "<Figure size 432x288 with 1 Axes>"
      ]
     },
     "metadata": {
      "needs_background": "light"
     },
     "output_type": "display_data"
    }
   ],
   "source": [
    "Dataviz_df['Adj Close'].plot()"
   ]
  },
  {
   "cell_type": "code",
   "execution_count": 72,
   "metadata": {},
   "outputs": [],
   "source": [
    "Dataviz_df.index = Dataviz_df['Date']"
   ]
  },
  {
   "cell_type": "code",
   "execution_count": 73,
   "metadata": {},
   "outputs": [
    {
     "data": {
      "text/plain": [
       "<matplotlib.axes._subplots.AxesSubplot at 0x256ba431340>"
      ]
     },
     "execution_count": 73,
     "metadata": {},
     "output_type": "execute_result"
    },
    {
     "data": {
      "image/png": "[encoded data removed]",
      "text/plain": [
       "<Figure size 432x288 with 1 Axes>"
      ]
     },
     "metadata": {
      "needs_background": "light"
     },
     "output_type": "display_data"
    }
   ],
   "source": [
    "Dataviz_df['Adj Close'].plot()"
   ]
  },
  {
   "cell_type": "code",
   "execution_count": 114,
   "metadata": {},
   "outputs": [],
   "source": [
    "#Zooming in\n",
    "Dataviz_df2 = Dataviz_df[(Dataviz_df['Date'] > '2010-01-04') & (Dataviz_df['Date'] <= '2010-05-29')].copy()"
   ]
  },
  {
   "cell_type": "code",
   "execution_count": 115,
   "metadata": {},
   "outputs": [
    {
     "data": {
      "text/html": [
       "<div>\n",
       "<style scoped>\n",
       "    .dataframe tbody tr th:only-of-type {\n",
       "        vertical-align: middle;\n",
       "    }\n",
       "\n",
       "    .dataframe tbody tr th {\n",
       "        vertical-align: top;\n",
       "    }\n",
       "\n",
       "    .dataframe thead th {\n",
       "        text-align: right;\n",
       "    }\n",
       "</style>\n",
       "<table border=\"1\" class=\"dataframe\">\n",
       "  <thead>\n",
       "    <tr style=\"text-align: right;\">\n",
       "      <th></th>\n",
       "      <th>Date</th>\n",
       "      <th>Open</th>\n",
       "      <th>High</th>\n",
       "      <th>Low</th>\n",
       "      <th>Close</th>\n",
       "      <th>Adj Close</th>\n",
       "      <th>Volume</th>\n",
       "    </tr>\n",
       "    <tr>\n",
       "      <th>Date</th>\n",
       "      <th></th>\n",
       "      <th></th>\n",
       "      <th></th>\n",
       "      <th></th>\n",
       "      <th></th>\n",
       "      <th></th>\n",
       "      <th></th>\n",
       "    </tr>\n",
       "  </thead>\n",
       "  <tbody>\n",
       "    <tr>\n",
       "      <th>2010-01-05</th>\n",
       "      <td>2010-01-05</td>\n",
       "      <td>81.629997</td>\n",
       "      <td>82.000000</td>\n",
       "      <td>80.949997</td>\n",
       "      <td>81.769997</td>\n",
       "      <td>81.769997</td>\n",
       "      <td>258887.0</td>\n",
       "    </tr>\n",
       "    <tr>\n",
       "      <th>2010-01-06</th>\n",
       "      <td>2010-01-06</td>\n",
       "      <td>81.430000</td>\n",
       "      <td>83.519997</td>\n",
       "      <td>80.849998</td>\n",
       "      <td>83.180000</td>\n",
       "      <td>83.180000</td>\n",
       "      <td>370059.0</td>\n",
       "    </tr>\n",
       "    <tr>\n",
       "      <th>2010-01-07</th>\n",
       "      <td>2010-01-07</td>\n",
       "      <td>83.199997</td>\n",
       "      <td>83.360001</td>\n",
       "      <td>82.260002</td>\n",
       "      <td>82.660004</td>\n",
       "      <td>82.660004</td>\n",
       "      <td>246632.0</td>\n",
       "    </tr>\n",
       "    <tr>\n",
       "      <th>2010-01-08</th>\n",
       "      <td>2010-01-08</td>\n",
       "      <td>82.650002</td>\n",
       "      <td>83.470001</td>\n",
       "      <td>81.800003</td>\n",
       "      <td>82.750000</td>\n",
       "      <td>82.750000</td>\n",
       "      <td>310377.0</td>\n",
       "    </tr>\n",
       "    <tr>\n",
       "      <th>2010-01-11</th>\n",
       "      <td>2010-01-11</td>\n",
       "      <td>82.879997</td>\n",
       "      <td>83.949997</td>\n",
       "      <td>81.959999</td>\n",
       "      <td>82.519997</td>\n",
       "      <td>82.519997</td>\n",
       "      <td>296304.0</td>\n",
       "    </tr>\n",
       "    <tr>\n",
       "      <th>...</th>\n",
       "      <td>...</td>\n",
       "      <td>...</td>\n",
       "      <td>...</td>\n",
       "      <td>...</td>\n",
       "      <td>...</td>\n",
       "      <td>...</td>\n",
       "      <td>...</td>\n",
       "    </tr>\n",
       "    <tr>\n",
       "      <th>2010-05-24</th>\n",
       "      <td>2010-05-24</td>\n",
       "      <td>70.620003</td>\n",
       "      <td>70.959999</td>\n",
       "      <td>69.570000</td>\n",
       "      <td>70.209999</td>\n",
       "      <td>70.209999</td>\n",
       "      <td>279820.0</td>\n",
       "    </tr>\n",
       "    <tr>\n",
       "      <th>2010-05-25</th>\n",
       "      <td>2010-05-25</td>\n",
       "      <td>69.900002</td>\n",
       "      <td>70.040001</td>\n",
       "      <td>67.150002</td>\n",
       "      <td>68.750000</td>\n",
       "      <td>68.750000</td>\n",
       "      <td>395399.0</td>\n",
       "    </tr>\n",
       "    <tr>\n",
       "      <th>2010-05-26</th>\n",
       "      <td>2010-05-26</td>\n",
       "      <td>70.059998</td>\n",
       "      <td>71.699997</td>\n",
       "      <td>69.209999</td>\n",
       "      <td>71.510002</td>\n",
       "      <td>71.510002</td>\n",
       "      <td>405519.0</td>\n",
       "    </tr>\n",
       "    <tr>\n",
       "      <th>2010-05-27</th>\n",
       "      <td>2010-05-27</td>\n",
       "      <td>70.739998</td>\n",
       "      <td>74.750000</td>\n",
       "      <td>70.669998</td>\n",
       "      <td>74.550003</td>\n",
       "      <td>74.550003</td>\n",
       "      <td>401812.0</td>\n",
       "    </tr>\n",
       "    <tr>\n",
       "      <th>2010-05-28</th>\n",
       "      <td>2010-05-28</td>\n",
       "      <td>74.900002</td>\n",
       "      <td>75.720001</td>\n",
       "      <td>73.129997</td>\n",
       "      <td>73.970001</td>\n",
       "      <td>73.970001</td>\n",
       "      <td>420674.0</td>\n",
       "    </tr>\n",
       "  </tbody>\n",
       "</table>\n",
       "<p>101 rows × 7 columns</p>\n",
       "</div>"
      ],
      "text/plain": [
       "                 Date       Open       High        Low      Close  Adj Close  \\\n",
       "Date                                                                           \n",
       "2010-01-05 2010-01-05  81.629997  82.000000  80.949997  81.769997  81.769997   \n",
       "2010-01-06 2010-01-06  81.430000  83.519997  80.849998  83.180000  83.180000   \n",
       "2010-01-07 2010-01-07  83.199997  83.360001  82.260002  82.660004  82.660004   \n",
       "2010-01-08 2010-01-08  82.650002  83.470001  81.800003  82.750000  82.750000   \n",
       "2010-01-11 2010-01-11  82.879997  83.949997  81.959999  82.519997  82.519997   \n",
       "...               ...        ...        ...        ...        ...        ...   \n",
       "2010-05-24 2010-05-24  70.620003  70.959999  69.570000  70.209999  70.209999   \n",
       "2010-05-25 2010-05-25  69.900002  70.040001  67.150002  68.750000  68.750000   \n",
       "2010-05-26 2010-05-26  70.059998  71.699997  69.209999  71.510002  71.510002   \n",
       "2010-05-27 2010-05-27  70.739998  74.750000  70.669998  74.550003  74.550003   \n",
       "2010-05-28 2010-05-28  74.900002  75.720001  73.129997  73.970001  73.970001   \n",
       "\n",
       "              Volume  \n",
       "Date                  \n",
       "2010-01-05  258887.0  \n",
       "2010-01-06  370059.0  \n",
       "2010-01-07  246632.0  \n",
       "2010-01-08  310377.0  \n",
       "2010-01-11  296304.0  \n",
       "...              ...  \n",
       "2010-05-24  279820.0  \n",
       "2010-05-25  395399.0  \n",
       "2010-05-26  405519.0  \n",
       "2010-05-27  401812.0  \n",
       "2010-05-28  420674.0  \n",
       "\n",
       "[101 rows x 7 columns]"
      ]
     },
     "execution_count": 115,
     "metadata": {},
     "output_type": "execute_result"
    }
   ],
   "source": [
    "Dataviz_df2"
   ]
  },
  {
   "cell_type": "code",
   "execution_count": 113,
   "metadata": {},
   "outputs": [
    {
     "data": {
      "text/plain": [
       "<matplotlib.axes._subplots.AxesSubplot at 0x256bc619880>"
      ]
     },
     "execution_count": 113,
     "metadata": {},
     "output_type": "execute_result"
    },
    {
     "data": {
      "image/png": "[encoded data removed]",
      "text/plain": [
       "<Figure size 432x288 with 1 Axes>"
      ]
     },
     "metadata": {
      "needs_background": "light"
     },
     "output_type": "display_data"
    }
   ],
   "source": [
    "Dataviz_df2['Adj Close'].plot()"
   ]
  },
  {
   "cell_type": "code",
   "execution_count": 116,
   "metadata": {},
   "outputs": [],
   "source": [
    "#Trendline\n",
    "import seaborn as sns"
   ]
  },
  {
   "cell_type": "code",
   "execution_count": 117,
   "metadata": {},
   "outputs": [
    {
     "data": {
      "text/plain": [
       "<matplotlib.axes._subplots.AxesSubplot at 0x256bc71c730>"
      ]
     },
     "execution_count": 117,
     "metadata": {},
     "output_type": "execute_result"
    },
    {
     "data": {
      "image/png": "[encoded data removed]",
      "text/plain": [
       "<Figure size 432x288 with 1 Axes>"
      ]
     },
     "metadata": {
      "needs_background": "light"
     },
     "output_type": "display_data"
    }
   ],
   "source": [
    "sns.regplot(x= df2.index.values, y =df2['Adj Close'])"
   ]
  },
  {
   "cell_type": "code",
   "execution_count": 118,
   "metadata": {},
   "outputs": [
    {
     "data": {
      "text/plain": [
       "<matplotlib.axes._subplots.AxesSubplot at 0x256bc6d3df0>"
      ]
     },
     "execution_count": 118,
     "metadata": {},
     "output_type": "execute_result"
    },
    {
     "data": {
      "image/png": "[encoded data removed]",
      "text/plain": [
       "<Figure size 432x288 with 1 Axes>"
      ]
     },
     "metadata": {
      "needs_background": "light"
     },
     "output_type": "display_data"
    }
   ],
   "source": [
    "sns.regplot(x=df2.index.values, y = df2['Adj Close'], order =2)"
   ]
  },
  {
   "cell_type": "code",
   "execution_count": 120,
   "metadata": {},
   "outputs": [
    {
     "data": {
      "text/plain": [
       "<matplotlib.axes._subplots.AxesSubplot at 0x256bc775ca0>"
      ]
     },
     "execution_count": 120,
     "metadata": {},
     "output_type": "execute_result"
    },
    {
     "data": {
      "image/png": "[encoded data removed]",
      "text/plain": [
       "<Figure size 432x288 with 1 Axes>"
      ]
     },
     "metadata": {
      "needs_background": "light"
     },
     "output_type": "display_data"
    }
   ],
   "source": [
    "df2['Adj Close'].plot()"
   ]
  },
  {
   "cell_type": "code",
   "execution_count": 123,
   "metadata": {},
   "outputs": [
    {
     "data": {
      "text/plain": [
       "<matplotlib.axes._subplots.AxesSubplot at 0x256bc7b69a0>"
      ]
     },
     "execution_count": 123,
     "metadata": {},
     "output_type": "execute_result"
    },
    {
     "data": {
      "image/png": "[encoded data removed]",
      "text/plain": [
       "<Figure size 432x288 with 1 Axes>"
      ]
     },
     "metadata": {
      "needs_background": "light"
     },
     "output_type": "display_data"
    }
   ],
   "source": [
    "sns.regplot(x= df2.index.values, y=df2['Adj Close'])"
   ]
  },
  {
   "cell_type": "code",
   "execution_count": 124,
   "metadata": {},
   "outputs": [],
   "source": [
    "#Removing Seasonality\n",
    "df2['Year'] = df2['Date'].dt.year"
   ]
  },
  {
   "cell_type": "code",
   "execution_count": 125,
   "metadata": {},
   "outputs": [
    {
     "data": {
      "text/html": [
       "<div>\n",
       "<style scoped>\n",
       "    .dataframe tbody tr th:only-of-type {\n",
       "        vertical-align: middle;\n",
       "    }\n",
       "\n",
       "    .dataframe tbody tr th {\n",
       "        vertical-align: top;\n",
       "    }\n",
       "\n",
       "    .dataframe thead th {\n",
       "        text-align: right;\n",
       "    }\n",
       "</style>\n",
       "<table border=\"1\" class=\"dataframe\">\n",
       "  <thead>\n",
       "    <tr style=\"text-align: right;\">\n",
       "      <th></th>\n",
       "      <th>Date</th>\n",
       "      <th>Open</th>\n",
       "      <th>High</th>\n",
       "      <th>Low</th>\n",
       "      <th>Close</th>\n",
       "      <th>Adj Close</th>\n",
       "      <th>Volume</th>\n",
       "      <th>Year</th>\n",
       "    </tr>\n",
       "  </thead>\n",
       "  <tbody>\n",
       "    <tr>\n",
       "      <th>0</th>\n",
       "      <td>2000-08-23</td>\n",
       "      <td>31.950001</td>\n",
       "      <td>32.799999</td>\n",
       "      <td>31.950001</td>\n",
       "      <td>32.049999</td>\n",
       "      <td>32.049999</td>\n",
       "      <td>79385.0</td>\n",
       "      <td>2000</td>\n",
       "    </tr>\n",
       "    <tr>\n",
       "      <th>1</th>\n",
       "      <td>2000-08-24</td>\n",
       "      <td>31.900000</td>\n",
       "      <td>32.240002</td>\n",
       "      <td>31.400000</td>\n",
       "      <td>31.629999</td>\n",
       "      <td>31.629999</td>\n",
       "      <td>72978.0</td>\n",
       "      <td>2000</td>\n",
       "    </tr>\n",
       "    <tr>\n",
       "      <th>2</th>\n",
       "      <td>2000-08-25</td>\n",
       "      <td>31.700001</td>\n",
       "      <td>32.099998</td>\n",
       "      <td>31.320000</td>\n",
       "      <td>32.049999</td>\n",
       "      <td>32.049999</td>\n",
       "      <td>44601.0</td>\n",
       "      <td>2000</td>\n",
       "    </tr>\n",
       "    <tr>\n",
       "      <th>3</th>\n",
       "      <td>2000-08-28</td>\n",
       "      <td>32.040001</td>\n",
       "      <td>32.919998</td>\n",
       "      <td>31.860001</td>\n",
       "      <td>32.869999</td>\n",
       "      <td>32.869999</td>\n",
       "      <td>46770.0</td>\n",
       "      <td>2000</td>\n",
       "    </tr>\n",
       "    <tr>\n",
       "      <th>4</th>\n",
       "      <td>2000-08-29</td>\n",
       "      <td>32.820000</td>\n",
       "      <td>33.029999</td>\n",
       "      <td>32.560001</td>\n",
       "      <td>32.720001</td>\n",
       "      <td>32.720001</td>\n",
       "      <td>49131.0</td>\n",
       "      <td>2000</td>\n",
       "    </tr>\n",
       "  </tbody>\n",
       "</table>\n",
       "</div>"
      ],
      "text/plain": [
       "        Date       Open       High        Low      Close  Adj Close   Volume  \\\n",
       "0 2000-08-23  31.950001  32.799999  31.950001  32.049999  32.049999  79385.0   \n",
       "1 2000-08-24  31.900000  32.240002  31.400000  31.629999  31.629999  72978.0   \n",
       "2 2000-08-25  31.700001  32.099998  31.320000  32.049999  32.049999  44601.0   \n",
       "3 2000-08-28  32.040001  32.919998  31.860001  32.869999  32.869999  46770.0   \n",
       "4 2000-08-29  32.820000  33.029999  32.560001  32.720001  32.720001  49131.0   \n",
       "\n",
       "   Year  \n",
       "0  2000  \n",
       "1  2000  \n",
       "2  2000  \n",
       "3  2000  \n",
       "4  2000  "
      ]
     },
     "execution_count": 125,
     "metadata": {},
     "output_type": "execute_result"
    }
   ],
   "source": [
    "df2.head()"
   ]
  },
  {
   "cell_type": "code",
   "execution_count": 126,
   "metadata": {},
   "outputs": [
    {
     "data": {
      "text/plain": [
       "Year\n",
       "2000     32.393708\n",
       "2001     25.960405\n",
       "2002     26.150440\n",
       "2003     30.994400\n",
       "2004     41.469076\n",
       "2005     56.704502\n",
       "2006     66.254560\n",
       "2007     72.177269\n",
       "2008    100.230803\n",
       "2009     61.974440\n",
       "2010     79.593347\n",
       "2011     95.107809\n",
       "2012     94.286761\n",
       "2013     98.050683\n",
       "2014     93.118313\n",
       "2015     48.761349\n",
       "2016     43.435800\n",
       "2017     50.835944\n",
       "2018     65.059355\n",
       "2019     57.031807\n",
       "2020     39.284223\n",
       "2021     59.935464\n",
       "Name: Adj Close, dtype: float64"
      ]
     },
     "execution_count": 126,
     "metadata": {},
     "output_type": "execute_result"
    }
   ],
   "source": [
    "df2.groupby('Year')['Adj Close'].mean()"
   ]
  },
  {
   "cell_type": "code",
   "execution_count": 127,
   "metadata": {},
   "outputs": [
    {
     "data": {
      "text/plain": [
       "<matplotlib.axes._subplots.AxesSubplot at 0x256bc827460>"
      ]
     },
     "execution_count": 127,
     "metadata": {},
     "output_type": "execute_result"
    },
    {
     "data": {
      "image/png": "[encoded data removed]",
      "text/plain": [
       "<Figure size 432x288 with 1 Axes>"
      ]
     },
     "metadata": {
      "needs_background": "light"
     },
     "output_type": "display_data"
    }
   ],
   "source": [
    "df2.groupby('Year')['Adj Close'].mean().plot()"
   ]
  },
  {
   "cell_type": "code",
   "execution_count": 128,
   "metadata": {},
   "outputs": [],
   "source": [
    "##Creating lag plots\n",
    "df2['lag1'] = df2['Adj Close'].shift(1)"
   ]
  },
  {
   "cell_type": "code",
   "execution_count": 129,
   "metadata": {},
   "outputs": [
    {
     "data": {
      "text/html": [
       "<div>\n",
       "<style scoped>\n",
       "    .dataframe tbody tr th:only-of-type {\n",
       "        vertical-align: middle;\n",
       "    }\n",
       "\n",
       "    .dataframe tbody tr th {\n",
       "        vertical-align: top;\n",
       "    }\n",
       "\n",
       "    .dataframe thead th {\n",
       "        text-align: right;\n",
       "    }\n",
       "</style>\n",
       "<table border=\"1\" class=\"dataframe\">\n",
       "  <thead>\n",
       "    <tr style=\"text-align: right;\">\n",
       "      <th></th>\n",
       "      <th>Date</th>\n",
       "      <th>Open</th>\n",
       "      <th>High</th>\n",
       "      <th>Low</th>\n",
       "      <th>Close</th>\n",
       "      <th>Adj Close</th>\n",
       "      <th>Volume</th>\n",
       "      <th>Year</th>\n",
       "      <th>lag1</th>\n",
       "    </tr>\n",
       "  </thead>\n",
       "  <tbody>\n",
       "    <tr>\n",
       "      <th>0</th>\n",
       "      <td>2000-08-23</td>\n",
       "      <td>31.950001</td>\n",
       "      <td>32.799999</td>\n",
       "      <td>31.950001</td>\n",
       "      <td>32.049999</td>\n",
       "      <td>32.049999</td>\n",
       "      <td>79385.0</td>\n",
       "      <td>2000</td>\n",
       "      <td>NaN</td>\n",
       "    </tr>\n",
       "    <tr>\n",
       "      <th>1</th>\n",
       "      <td>2000-08-24</td>\n",
       "      <td>31.900000</td>\n",
       "      <td>32.240002</td>\n",
       "      <td>31.400000</td>\n",
       "      <td>31.629999</td>\n",
       "      <td>31.629999</td>\n",
       "      <td>72978.0</td>\n",
       "      <td>2000</td>\n",
       "      <td>32.049999</td>\n",
       "    </tr>\n",
       "    <tr>\n",
       "      <th>2</th>\n",
       "      <td>2000-08-25</td>\n",
       "      <td>31.700001</td>\n",
       "      <td>32.099998</td>\n",
       "      <td>31.320000</td>\n",
       "      <td>32.049999</td>\n",
       "      <td>32.049999</td>\n",
       "      <td>44601.0</td>\n",
       "      <td>2000</td>\n",
       "      <td>31.629999</td>\n",
       "    </tr>\n",
       "    <tr>\n",
       "      <th>3</th>\n",
       "      <td>2000-08-28</td>\n",
       "      <td>32.040001</td>\n",
       "      <td>32.919998</td>\n",
       "      <td>31.860001</td>\n",
       "      <td>32.869999</td>\n",
       "      <td>32.869999</td>\n",
       "      <td>46770.0</td>\n",
       "      <td>2000</td>\n",
       "      <td>32.049999</td>\n",
       "    </tr>\n",
       "    <tr>\n",
       "      <th>4</th>\n",
       "      <td>2000-08-29</td>\n",
       "      <td>32.820000</td>\n",
       "      <td>33.029999</td>\n",
       "      <td>32.560001</td>\n",
       "      <td>32.720001</td>\n",
       "      <td>32.720001</td>\n",
       "      <td>49131.0</td>\n",
       "      <td>2000</td>\n",
       "      <td>32.869999</td>\n",
       "    </tr>\n",
       "  </tbody>\n",
       "</table>\n",
       "</div>"
      ],
      "text/plain": [
       "        Date       Open       High        Low      Close  Adj Close   Volume  \\\n",
       "0 2000-08-23  31.950001  32.799999  31.950001  32.049999  32.049999  79385.0   \n",
       "1 2000-08-24  31.900000  32.240002  31.400000  31.629999  31.629999  72978.0   \n",
       "2 2000-08-25  31.700001  32.099998  31.320000  32.049999  32.049999  44601.0   \n",
       "3 2000-08-28  32.040001  32.919998  31.860001  32.869999  32.869999  46770.0   \n",
       "4 2000-08-29  32.820000  33.029999  32.560001  32.720001  32.720001  49131.0   \n",
       "\n",
       "   Year       lag1  \n",
       "0  2000        NaN  \n",
       "1  2000  32.049999  \n",
       "2  2000  31.629999  \n",
       "3  2000  32.049999  \n",
       "4  2000  32.869999  "
      ]
     },
     "execution_count": 129,
     "metadata": {},
     "output_type": "execute_result"
    }
   ],
   "source": [
    "df2.head()"
   ]
  },
  {
   "cell_type": "code",
   "execution_count": 130,
   "metadata": {},
   "outputs": [
    {
     "data": {
      "text/plain": [
       "<matplotlib.axes._subplots.AxesSubplot at 0x256bc827760>"
      ]
     },
     "execution_count": 130,
     "metadata": {},
     "output_type": "execute_result"
    },
    {
     "data": {
      "image/png": "[encoded data removed]",
      "text/plain": [
       "<Figure size 432x288 with 1 Axes>"
      ]
     },
     "metadata": {
      "needs_background": "light"
     },
     "output_type": "display_data"
    }
   ],
   "source": [
    "sns.scatterplot(x=df2['lag1'], y=df2['Adj Close'])"
   ]
  },
  {
   "cell_type": "code",
   "execution_count": 131,
   "metadata": {},
   "outputs": [],
   "source": [
    "from pandas.plotting import lag_plot"
   ]
  },
  {
   "cell_type": "code",
   "execution_count": 132,
   "metadata": {},
   "outputs": [
    {
     "data": {
      "text/plain": [
       "<matplotlib.axes._subplots.AxesSubplot at 0x256bc775fd0>"
      ]
     },
     "execution_count": 132,
     "metadata": {},
     "output_type": "execute_result"
    },
    {
     "data": {
      "image/png": "[encoded data removed]",
      "text/plain": [
       "<Figure size 432x288 with 1 Axes>"
      ]
     },
     "metadata": {
      "needs_background": "light"
     },
     "output_type": "display_data"
    }
   ],
   "source": [
    "lag_plot(df2['Adj Close'])"
   ]
  },
  {
   "cell_type": "code",
   "execution_count": null,
   "metadata": {},
   "outputs": [],
   "source": []
  }
 ],
 "metadata": {
  "kernelspec": {
   "display_name": "Python 3",
   "language": "python",
   "name": "python3"
  },
  "language_info": {
   "codemirror_mode": {
    "name": "ipython",
    "version": 3
   },
   "file_extension": ".py",
   "mimetype": "text/x-python",
   "name": "python",
   "nbconvert_exporter": "python",
   "pygments_lexer": "ipython3",
   "version": "3.8.3"
  }
 },
 "nbformat": 4,
 "nbformat_minor": 4
}
